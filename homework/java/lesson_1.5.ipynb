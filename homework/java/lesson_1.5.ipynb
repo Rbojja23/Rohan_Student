{
 "cells": [
  {
   "cell_type": "raw",
   "id": "27a659e8",
   "metadata": {
    "vscode": {
     "languageId": "raw"
    }
   },
   "source": [
    "---\n",
    "title: Rohan Bojja - Lesson 5\n",
    "layout: post\n",
    "permalink: /lesson_1.5\n",
    "---"
   ]
  },
  {
   "cell_type": "code",
   "execution_count": 1,
   "id": "5717941e",
   "metadata": {
    "vscode": {
     "languageId": "java"
    }
   },
   "outputs": [],
   "source": [
    "public static double avgInt(int a, int b) {\n",
    "    return (a + b) / 2.0;\n",
    "}"
   ]
  },
  {
   "cell_type": "code",
   "execution_count": 2,
   "id": "3d6dc7c5",
   "metadata": {
    "vscode": {
     "languageId": "java"
    }
   },
   "outputs": [],
   "source": [
    "public static double percent(int correct, int total) {\n",
    "    if (total == 0) return 0.0;\n",
    "    return (correct * 100.0) / total;\n",
    "}"
   ]
  },
  {
   "cell_type": "code",
   "execution_count": 3,
   "id": "e4fe8bdf",
   "metadata": {
    "vscode": {
     "languageId": "java"
    }
   },
   "outputs": [],
   "source": [
    "public static int safeMod(int a, int b) {\n",
    "    if (b == 0) return 0;\n",
    "    return a % b;\n",
    "}"
   ]
  }
 ],
 "metadata": {
  "kernelspec": {
   "display_name": "Java",
   "language": "java",
   "name": "java"
  },
  "language_info": {
   "codemirror_mode": "java",
   "file_extension": ".jshell",
   "mimetype": "text/x-java-source",
   "name": "Java",
   "pygments_lexer": "java",
   "version": "17.0.16+0"
  }
 },
 "nbformat": 4,
 "nbformat_minor": 5
}
